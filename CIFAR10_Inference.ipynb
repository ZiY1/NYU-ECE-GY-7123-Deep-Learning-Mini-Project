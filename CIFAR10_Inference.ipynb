{
  "nbformat": 4,
  "nbformat_minor": 0,
  "metadata": {
    "colab": {
      "provenance": [],
      "gpuType": "T4"
    },
    "kernelspec": {
      "name": "python3",
      "display_name": "Python 3"
    },
    "language_info": {
      "name": "python"
    },
    "accelerator": "GPU"
  },
  "cells": [
    {
      "cell_type": "markdown",
      "source": [
        "Use the previously saved ckpt.pth file in training to load the Modified ResNet for inference on both the CIFAR10 official test set and the customized test set in Kaggle competition. Has to use GPU to load the ckpt.pth file if previously trained the model with GPU.\n",
        "\n",
        "A sample ckpt.pth file is provided in the ```./checkpoint``` folder."
      ],
      "metadata": {
        "id": "sYQIA_uHxPg4"
      }
    },
    {
      "cell_type": "code",
      "execution_count": 1,
      "metadata": {
        "id": "nuYx7knZv1YY"
      },
      "outputs": [],
      "source": [
        "import torch\n",
        "import torch.nn as nn\n",
        "import torch.nn.functional as F\n",
        "from torchsummary import summary\n",
        "import torch.optim as optim\n",
        "import torch.backends.cudnn as cudnn\n",
        "from torch.utils.data import Dataset, DataLoader\n",
        "\n",
        "import torchvision\n",
        "from torchvision import transforms, utils\n",
        "\n",
        "import os\n",
        "import argparse\n",
        "import sys\n",
        "from google.colab import files\n",
        "\n",
        "import pickle\n",
        "import numpy as np\n",
        "import matplotlib.pyplot as plt"
      ]
    },
    {
      "cell_type": "markdown",
      "source": [
        "## Load Model\n",
        "First define model as in training session: Blocks->Net->model.\n",
        "\n",
        "Setups has to be exactly the same as the in the training book ```ModifiedResNet_CIFAR.ipynb```.\n",
        "\n",
        "Here the modified shortcut is turned on to match the sample model provided.\n",
        "\n",
        "To turn it off, comment the following lines where ```self.shortcut``` is defined in both the BasicBlock and the PreActBlock,\n",
        "```\n",
        "                nn.MaxPool2d(3, stride = stride, padding = 1),\n",
        "                nn.Conv2d(in_planes, self.expansion*planes,\n",
        "                          kernel_size=1, stride=1, bias=False),\n",
        "```\n",
        "and uncomment out the following lines.\n",
        "```\n",
        "                # nn.Conv2d(in_planes, self.expansion*planes,\n",
        "                          kernel_size=1, stride=stride, bias=False),\n",
        "```\n"
      ],
      "metadata": {
        "id": "U0b6if3zwBMl"
      }
    },
    {
      "cell_type": "code",
      "source": [
        "class BasicBlock(nn.Module):\n",
        "    expansion = 1\n",
        "\n",
        "    def __init__(self, in_planes, planes, stride=1):\n",
        "        super(BasicBlock, self).__init__()\n",
        "        # First Convolutional Layer:\n",
        "        # Kernel(Filter) Size: 3 x 3\n",
        "        # Stride: 1\n",
        "        # Padding: 1 (keep the output size equal to the input size if stride is 1)\n",
        "        self.conv1 = nn.Conv2d(\n",
        "            in_planes, planes, kernel_size=3, stride=stride, padding=1, bias=False)\n",
        "        # Batch Normalization\n",
        "        self.bn1 = nn.BatchNorm2d(planes)\n",
        "\n",
        "        # Second Convolutional Layer:\n",
        "        # Kernel Size: 3 x 3\n",
        "        # Stride: 1\n",
        "        # Padding: 1 (keep the output size equal to the input size if stride is 1)\n",
        "        self.conv2 = nn.Conv2d(planes, planes, kernel_size=3,\n",
        "                               stride=1, padding=1, bias=False)\n",
        "        # Batch Normalization\n",
        "        self.bn2 = nn.BatchNorm2d(planes)\n",
        "\n",
        "        # When the input and output dimensions do not match up,\n",
        "        # use 1x1 convolutional layer to adjust the number of channels\n",
        "        self.shortcut = nn.Sequential()\n",
        "        if stride != 1 or in_planes != self.expansion*planes:\n",
        "            self.shortcut = nn.Sequential(\n",
        "                nn.MaxPool2d(3, stride = stride, padding = 1),\n",
        "                nn.Conv2d(in_planes, self.expansion*planes,\n",
        "                          kernel_size=1, stride=1, bias=False),\n",
        "                # nn.Conv2d(in_planes, self.expansion*planes,\n",
        "                #           kernel_size=1, stride=stride, bias=False),\n",
        "                nn.BatchNorm2d(self.expansion*planes)\n",
        "            )\n",
        "    def forward(self, x):\n",
        "        out = F.relu(self.bn1(self.conv1(x)))\n",
        "        # print(\"shape after first weight layer:\", out.shape)\n",
        "        out = self.bn2(self.conv2(out))\n",
        "        # print(\"shape after second weight layer:\", out.shape)\n",
        "        out += self.shortcut(x)\n",
        "        out = F.relu(out)\n",
        "        return out"
      ],
      "metadata": {
        "id": "FHsdvYVrzFF4"
      },
      "execution_count": 2,
      "outputs": []
    },
    {
      "cell_type": "code",
      "source": [
        "class PreActBlock(nn.Module):\n",
        "    expansion = 1\n",
        "    # Full Pre-activation:\n",
        "    # BatchNorm -> Relu -> Conv -> BatchNorm -> Relu -> Conv\n",
        "    def __init__(self, in_planes, planes, stride=1):\n",
        "        super(PreActBlock, self).__init__()\n",
        "\n",
        "        # First Batch Normalization\n",
        "        self.bn1 = nn.BatchNorm2d(in_planes)\n",
        "        # First Convolutional Layer:\n",
        "        # Kernel(Filter) Size: 3 x 3\n",
        "        # Stride: 1\n",
        "        # Padding: 1 (keep the output size equal to the input size if stride is 1)\n",
        "        self.conv1 = nn.Conv2d(\n",
        "            in_planes, planes, kernel_size=3, stride=stride, padding=1, bias=False)\n",
        "\n",
        "        # Second Batch Normalization\n",
        "        self.bn2 = nn.BatchNorm2d(planes)\n",
        "        # Second Convolutional Layer:\n",
        "        # Kernel Size: 3 x 3\n",
        "        # Stride: 1\n",
        "        # Padding: 1 (keep the output size equal to the input size if stride is 1)\n",
        "        self.conv2 = nn.Conv2d(planes, planes, kernel_size=3,\n",
        "                               stride=1, padding=1, bias=False)\n",
        "\n",
        "\n",
        "        # When the input and output dimensions do not match up,\n",
        "        # use 1x1 convolutional layer to adjust the number of channels\n",
        "        self.shortcut = nn.Sequential()\n",
        "        if stride != 1 or in_planes != self.expansion*planes:\n",
        "            self.shortcut = nn.Sequential(\n",
        "                nn.MaxPool2d(3, stride = stride, padding = 1),\n",
        "                nn.Conv2d(in_planes, self.expansion*planes,\n",
        "                          kernel_size=1, stride=1, bias=False),\n",
        "                # nn.Conv2d(in_planes, self.expansion*planes,\n",
        "                #           kernel_size=1, stride=stride, bias=False),\n",
        "                nn.BatchNorm2d(self.expansion*planes)\n",
        "            )\n",
        "    def forward(self, x):\n",
        "        # bn-> relu -> conv\n",
        "        out = F.relu(self.bn1(x))\n",
        "        out = self.conv1(out)\n",
        "        # print(\"shape after first weight layer:\", out.shape)\n",
        "        out = F.relu(self.bn2(out))\n",
        "        out = self.conv2(out)\n",
        "        # print(\"shape after second weight layer:\", out.shape)\n",
        "        out += self.shortcut(x)\n",
        "        return out"
      ],
      "metadata": {
        "id": "8TqOzmqEMgF5"
      },
      "execution_count": 3,
      "outputs": []
    },
    {
      "cell_type": "markdown",
      "source": [
        "Here the Input Layer Convolution is turned off to match the sample model provided.\n",
        "\n",
        "To turn the Convolution back on, change ```kernel_size``` from 1 to 3 and ```padding``` from 0 to 1 when defining ```self.conv1```, and do it backwards to turn if off."
      ],
      "metadata": {
        "id": "Mj4W0gVhFXN_"
      }
    },
    {
      "cell_type": "code",
      "source": [
        "class ResNet(nn.Module):\n",
        "    def __init__(self, block, num_blocks, num_classes=10):\n",
        "        super(ResNet, self).__init__()\n",
        "        self.in_planes = 32\n",
        "\n",
        "        self.conv1 = nn.Conv2d(3, 32, kernel_size=1,\n",
        "                               stride=1, padding=0, bias=False)\n",
        "        self.bn1 = nn.BatchNorm2d(32)\n",
        "        self.layer1 = self._make_layer(block, 32, num_blocks[0], stride=1)\n",
        "        self.layer2 = self._make_layer(block, 64, num_blocks[1], stride=2)\n",
        "        self.layer3 = self._make_layer(block, 128, num_blocks[2], stride=2)\n",
        "        self.layer4 = self._make_layer(block, 256, num_blocks[3], stride=2)\n",
        "        self.linear = nn.Linear(256*block.expansion, num_classes)\n",
        "\n",
        "    def _make_layer(self, block, planes, num_blocks, stride):\n",
        "        strides = [stride] + [1]*(num_blocks-1)\n",
        "        layers = []\n",
        "        for stride in strides:\n",
        "            layers.append(block(self.in_planes, planes, stride))\n",
        "            self.in_planes = planes * block.expansion\n",
        "        return nn.Sequential(*layers)\n",
        "\n",
        "    def forward(self, x):\n",
        "        out = F.relu(self.bn1(self.conv1(x)))\n",
        "        out = self.layer1(out)\n",
        "        out = self.layer2(out)\n",
        "        out = self.layer3(out)\n",
        "        out = self.layer4(out)\n",
        "        out = F.avg_pool2d(out, 4)\n",
        "        out = out.view(out.size(0), -1)\n",
        "        out = self.linear(out)\n",
        "        return out"
      ],
      "metadata": {
        "id": "fYinV9odzQpU"
      },
      "execution_count": 4,
      "outputs": []
    },
    {
      "cell_type": "markdown",
      "source": [
        "To match the provided sample, ```PreActBlock``` is used below and the model structure is of (32, [8,6,4,3])"
      ],
      "metadata": {
        "id": "Le7PxR-eGbs9"
      }
    },
    {
      "cell_type": "code",
      "source": [
        "def ModifiedResNet():\n",
        "    return ResNet(PreActBlock, [8, 6, 4, 3])"
      ],
      "metadata": {
        "id": "YH7aiIo6zLtA"
      },
      "execution_count": 5,
      "outputs": []
    },
    {
      "cell_type": "code",
      "source": [
        "device = 'cuda' if torch.cuda.is_available() else 'cpu'\n",
        "\n",
        "print('==> Building model..')\n",
        "\n",
        "net = ModifiedResNet()\n",
        "net = net.to(device)\n",
        "if device == 'cuda':\n",
        "    net = torch.nn.DataParallel(net)\n",
        "    cudnn.benchmark = True"
      ],
      "metadata": {
        "colab": {
          "base_uri": "https://localhost:8080/"
        },
        "id": "1HlZOozez3iq",
        "outputId": "5409bbc7-b24c-4f2f-b184-bdfc0fcc8967"
      },
      "execution_count": 6,
      "outputs": [
        {
          "output_type": "stream",
          "name": "stdout",
          "text": [
            "==> Building model..\n"
          ]
        }
      ]
    },
    {
      "cell_type": "markdown",
      "source": [
        "## Load and Prepare Datasets\n",
        "Then upload the saved ckpt.pth to checkpoint folder."
      ],
      "metadata": {
        "id": "XwxxclQHzpQH"
      }
    },
    {
      "cell_type": "code",
      "source": [
        "if not os.path.isdir('checkpoint'):\n",
        "  os.mkdir('./checkpoint')\n",
        "# upload the ckpt.pth file for the model you would like to use\n",
        "uploaded = files.upload()\n",
        "os.rename('ckpt.pth','./checkpoint/ckpt.pth')"
      ],
      "metadata": {
        "colab": {
          "base_uri": "https://localhost:8080/",
          "height": 73
        },
        "id": "qwPRWTiTWPMy",
        "outputId": "8f79d3dd-f218-4f17-fd71-05570eb377ea"
      },
      "execution_count": 7,
      "outputs": [
        {
          "output_type": "display_data",
          "data": {
            "text/plain": [
              "<IPython.core.display.HTML object>"
            ],
            "text/html": [
              "\n",
              "     <input type=\"file\" id=\"files-72b1014b-e6e2-4bab-b577-82ba57eebe69\" name=\"files[]\" multiple disabled\n",
              "        style=\"border:none\" />\n",
              "     <output id=\"result-72b1014b-e6e2-4bab-b577-82ba57eebe69\">\n",
              "      Upload widget is only available when the cell has been executed in the\n",
              "      current browser session. Please rerun this cell to enable.\n",
              "      </output>\n",
              "      <script>// Copyright 2017 Google LLC\n",
              "//\n",
              "// Licensed under the Apache License, Version 2.0 (the \"License\");\n",
              "// you may not use this file except in compliance with the License.\n",
              "// You may obtain a copy of the License at\n",
              "//\n",
              "//      http://www.apache.org/licenses/LICENSE-2.0\n",
              "//\n",
              "// Unless required by applicable law or agreed to in writing, software\n",
              "// distributed under the License is distributed on an \"AS IS\" BASIS,\n",
              "// WITHOUT WARRANTIES OR CONDITIONS OF ANY KIND, either express or implied.\n",
              "// See the License for the specific language governing permissions and\n",
              "// limitations under the License.\n",
              "\n",
              "/**\n",
              " * @fileoverview Helpers for google.colab Python module.\n",
              " */\n",
              "(function(scope) {\n",
              "function span(text, styleAttributes = {}) {\n",
              "  const element = document.createElement('span');\n",
              "  element.textContent = text;\n",
              "  for (const key of Object.keys(styleAttributes)) {\n",
              "    element.style[key] = styleAttributes[key];\n",
              "  }\n",
              "  return element;\n",
              "}\n",
              "\n",
              "// Max number of bytes which will be uploaded at a time.\n",
              "const MAX_PAYLOAD_SIZE = 100 * 1024;\n",
              "\n",
              "function _uploadFiles(inputId, outputId) {\n",
              "  const steps = uploadFilesStep(inputId, outputId);\n",
              "  const outputElement = document.getElementById(outputId);\n",
              "  // Cache steps on the outputElement to make it available for the next call\n",
              "  // to uploadFilesContinue from Python.\n",
              "  outputElement.steps = steps;\n",
              "\n",
              "  return _uploadFilesContinue(outputId);\n",
              "}\n",
              "\n",
              "// This is roughly an async generator (not supported in the browser yet),\n",
              "// where there are multiple asynchronous steps and the Python side is going\n",
              "// to poll for completion of each step.\n",
              "// This uses a Promise to block the python side on completion of each step,\n",
              "// then passes the result of the previous step as the input to the next step.\n",
              "function _uploadFilesContinue(outputId) {\n",
              "  const outputElement = document.getElementById(outputId);\n",
              "  const steps = outputElement.steps;\n",
              "\n",
              "  const next = steps.next(outputElement.lastPromiseValue);\n",
              "  return Promise.resolve(next.value.promise).then((value) => {\n",
              "    // Cache the last promise value to make it available to the next\n",
              "    // step of the generator.\n",
              "    outputElement.lastPromiseValue = value;\n",
              "    return next.value.response;\n",
              "  });\n",
              "}\n",
              "\n",
              "/**\n",
              " * Generator function which is called between each async step of the upload\n",
              " * process.\n",
              " * @param {string} inputId Element ID of the input file picker element.\n",
              " * @param {string} outputId Element ID of the output display.\n",
              " * @return {!Iterable<!Object>} Iterable of next steps.\n",
              " */\n",
              "function* uploadFilesStep(inputId, outputId) {\n",
              "  const inputElement = document.getElementById(inputId);\n",
              "  inputElement.disabled = false;\n",
              "\n",
              "  const outputElement = document.getElementById(outputId);\n",
              "  outputElement.innerHTML = '';\n",
              "\n",
              "  const pickedPromise = new Promise((resolve) => {\n",
              "    inputElement.addEventListener('change', (e) => {\n",
              "      resolve(e.target.files);\n",
              "    });\n",
              "  });\n",
              "\n",
              "  const cancel = document.createElement('button');\n",
              "  inputElement.parentElement.appendChild(cancel);\n",
              "  cancel.textContent = 'Cancel upload';\n",
              "  const cancelPromise = new Promise((resolve) => {\n",
              "    cancel.onclick = () => {\n",
              "      resolve(null);\n",
              "    };\n",
              "  });\n",
              "\n",
              "  // Wait for the user to pick the files.\n",
              "  const files = yield {\n",
              "    promise: Promise.race([pickedPromise, cancelPromise]),\n",
              "    response: {\n",
              "      action: 'starting',\n",
              "    }\n",
              "  };\n",
              "\n",
              "  cancel.remove();\n",
              "\n",
              "  // Disable the input element since further picks are not allowed.\n",
              "  inputElement.disabled = true;\n",
              "\n",
              "  if (!files) {\n",
              "    return {\n",
              "      response: {\n",
              "        action: 'complete',\n",
              "      }\n",
              "    };\n",
              "  }\n",
              "\n",
              "  for (const file of files) {\n",
              "    const li = document.createElement('li');\n",
              "    li.append(span(file.name, {fontWeight: 'bold'}));\n",
              "    li.append(span(\n",
              "        `(${file.type || 'n/a'}) - ${file.size} bytes, ` +\n",
              "        `last modified: ${\n",
              "            file.lastModifiedDate ? file.lastModifiedDate.toLocaleDateString() :\n",
              "                                    'n/a'} - `));\n",
              "    const percent = span('0% done');\n",
              "    li.appendChild(percent);\n",
              "\n",
              "    outputElement.appendChild(li);\n",
              "\n",
              "    const fileDataPromise = new Promise((resolve) => {\n",
              "      const reader = new FileReader();\n",
              "      reader.onload = (e) => {\n",
              "        resolve(e.target.result);\n",
              "      };\n",
              "      reader.readAsArrayBuffer(file);\n",
              "    });\n",
              "    // Wait for the data to be ready.\n",
              "    let fileData = yield {\n",
              "      promise: fileDataPromise,\n",
              "      response: {\n",
              "        action: 'continue',\n",
              "      }\n",
              "    };\n",
              "\n",
              "    // Use a chunked sending to avoid message size limits. See b/62115660.\n",
              "    let position = 0;\n",
              "    do {\n",
              "      const length = Math.min(fileData.byteLength - position, MAX_PAYLOAD_SIZE);\n",
              "      const chunk = new Uint8Array(fileData, position, length);\n",
              "      position += length;\n",
              "\n",
              "      const base64 = btoa(String.fromCharCode.apply(null, chunk));\n",
              "      yield {\n",
              "        response: {\n",
              "          action: 'append',\n",
              "          file: file.name,\n",
              "          data: base64,\n",
              "        },\n",
              "      };\n",
              "\n",
              "      let percentDone = fileData.byteLength === 0 ?\n",
              "          100 :\n",
              "          Math.round((position / fileData.byteLength) * 100);\n",
              "      percent.textContent = `${percentDone}% done`;\n",
              "\n",
              "    } while (position < fileData.byteLength);\n",
              "  }\n",
              "\n",
              "  // All done.\n",
              "  yield {\n",
              "    response: {\n",
              "      action: 'complete',\n",
              "    }\n",
              "  };\n",
              "}\n",
              "\n",
              "scope.google = scope.google || {};\n",
              "scope.google.colab = scope.google.colab || {};\n",
              "scope.google.colab._files = {\n",
              "  _uploadFiles,\n",
              "  _uploadFilesContinue,\n",
              "};\n",
              "})(self);\n",
              "</script> "
            ]
          },
          "metadata": {}
        },
        {
          "output_type": "stream",
          "name": "stdout",
          "text": [
            "Saving ckpt.pth to ckpt.pth\n"
          ]
        }
      ]
    },
    {
      "cell_type": "code",
      "source": [
        "if device == 'cuda':\n",
        "  checkpoint = torch.load('./checkpoint/ckpt.pth')\n",
        "net.load_state_dict(checkpoint['net'])\n",
        "best_acc = checkpoint['acc']\n",
        "start_epoch = checkpoint['epoch']"
      ],
      "metadata": {
        "id": "pflz-_PbxOuW"
      },
      "execution_count": 8,
      "outputs": []
    },
    {
      "cell_type": "markdown",
      "source": [
        "Load data from the provided file: one from the official test set (test_batch), the other from the customized test set (cifar_test_nolabels.pkl) provided by course staff. Make them tensor datasets and dataloaders. Both of them downloaded and stored in Google Drive."
      ],
      "metadata": {
        "id": "nzdV1KazjbYT"
      }
    },
    {
      "cell_type": "code",
      "source": [
        "!gdown 1QvbvlZwjW8G-4qDeyFJ6LHu55FJw8UGt #test_batch\n",
        "!gdown 1HhmSG8MmoSHYggm_5Euo6JT1w8Gq-boW #cifar_test_nolabels.pkl"
      ],
      "metadata": {
        "colab": {
          "base_uri": "https://localhost:8080/"
        },
        "id": "lJxoZMu2bP2z",
        "outputId": "4025cd85-7edf-4104-afb6-b8e9cfe32de8"
      },
      "execution_count": 9,
      "outputs": [
        {
          "output_type": "stream",
          "name": "stdout",
          "text": [
            "Downloading...\n",
            "From: https://drive.google.com/uc?id=1QvbvlZwjW8G-4qDeyFJ6LHu55FJw8UGt\n",
            "To: /content/test_batch\n",
            "100% 31.0M/31.0M [00:00<00:00, 76.8MB/s]\n",
            "Downloading...\n",
            "From: https://drive.google.com/uc?id=1HhmSG8MmoSHYggm_5Euo6JT1w8Gq-boW\n",
            "To: /content/cifar_test_nolabels.pkl\n",
            "100% 30.8M/30.8M [00:00<00:00, 95.6MB/s]\n"
          ]
        }
      ]
    },
    {
      "cell_type": "code",
      "source": [
        "def unpickle(file):\n",
        "    import pickle\n",
        "    with open(file, 'rb') as fo:\n",
        "        dict = pickle.load(fo, encoding='bytes')\n",
        "    return dict\n",
        "\n",
        "def cifar10_plot(data, im_idx=0):\n",
        "    im = data[b'data'][im_idx, :]\n",
        "\n",
        "    im_r = im[0:1024].reshape(32, 32)\n",
        "    im_g = im[1024:2048].reshape(32, 32)\n",
        "    im_b = im[2048:].reshape(32, 32)\n",
        "\n",
        "    img = np.dstack((im_r, im_g, im_b))\n",
        "\n",
        "    print(\"shape: \", img.shape)\n",
        "    # print(\"label: \", data[b'labels'][im_idx])\n",
        "    # print(\"category:\", meta[b'label_names'][data[b'labels'][im_idx]])\n",
        "\n",
        "    plt.imshow(img)\n",
        "    plt.show()\n"
      ],
      "metadata": {
        "id": "yGpaeD7ABJDC"
      },
      "execution_count": 10,
      "outputs": []
    },
    {
      "cell_type": "code",
      "source": [
        "class MyDataset(torch.utils.data.Dataset):\n",
        "    def __init__(self, data, target, transform=None, target_transform=None):\n",
        "        self.data = data\n",
        "        self.target = target\n",
        "        self.transform = transform\n",
        "        self.target_transform = target_transform\n",
        "\n",
        "    def __len__(self):\n",
        "        return len(self.data)\n",
        "\n",
        "    def __getitem__(self, index):\n",
        "        x = self.data[index]\n",
        "        if self.transform:\n",
        "            x = self.transform(x)\n",
        "\n",
        "        y = self.target[index]\n",
        "        if self.target_transform:\n",
        "            y = self.target_transform(y)\n",
        "\n",
        "        return x, y"
      ],
      "metadata": {
        "id": "MrAFNOo6yZV5"
      },
      "execution_count": 11,
      "outputs": []
    },
    {
      "cell_type": "markdown",
      "source": [
        "Dataset and dataloader marked with 'nolabel' is for the customized dataset, 'official' is for the actual CIFAR test dataset."
      ],
      "metadata": {
        "id": "T2xE_H4t3-36"
      }
    },
    {
      "cell_type": "code",
      "source": [
        "test_nolabel = unpickle(\"cifar_test_nolabels.pkl\")\n",
        "test_data_nolabel = np.transpose(np.reshape(test_nolabel[b'data'],(-1, 3, 32, 32)),(0,2,3,1))\n",
        "test_dataID_nolabel = test_nolabel[b'ids']\n",
        "\n",
        "test_official = unpickle(\"test_batch\")\n",
        "test_data_official = np.transpose(np.reshape(test_official[b'data'],(-1, 3, 32, 32)),(0,2,3,1))\n",
        "test_label_official = test_official[b'labels']\n"
      ],
      "metadata": {
        "id": "weTtzZ9ydbbY"
      },
      "execution_count": 12,
      "outputs": []
    },
    {
      "cell_type": "markdown",
      "source": [
        "Take a look at the image loded"
      ],
      "metadata": {
        "id": "q632yPWFIG9l"
      }
    },
    {
      "cell_type": "code",
      "source": [
        "cifar10_plot(test_nolabel,1001)"
      ],
      "metadata": {
        "colab": {
          "base_uri": "https://localhost:8080/",
          "height": 447
        },
        "id": "ajEodf2HDqhq",
        "outputId": "97f01896-152b-4701-8bcb-8af6ccc4b075"
      },
      "execution_count": 13,
      "outputs": [
        {
          "output_type": "stream",
          "name": "stdout",
          "text": [
            "shape:  (32, 32, 3)\n"
          ]
        },
        {
          "output_type": "display_data",
          "data": {
            "text/plain": [
              "<Figure size 640x480 with 1 Axes>"
            ],
            "image/png": "[encoded data removed]"
          },
          "metadata": {}
        }
      ]
    },
    {
      "cell_type": "code",
      "source": [
        "# Use the same standarization on the test set as the training set\n",
        "transform_test = transforms.Compose([\n",
        "    transforms.ToTensor(),\n",
        "    transforms.Normalize((0.4914, 0.4822, 0.4465), (0.2023, 0.1994, 0.2010)),\n",
        "])\n",
        "\n",
        "test_nolabel_dataset = MyDataset(test_data_nolabel, test_dataID_nolabel, transform = transform_test)\n",
        "test_official_dataset = MyDataset(test_data_official, test_label_official, transform = transform_test)\n",
        "\n",
        "testloader_oset = torch.utils.data.DataLoader(\n",
        "    test_official_dataset, batch_size=100, shuffle=False)\n",
        "\n",
        "testloader_nset = torch.utils.data.DataLoader(\n",
        "    test_nolabel_dataset, batch_size=100, shuffle=False)\n",
        "\n",
        "classes = ('plane', 'car', 'bird', 'cat', 'deer',\n",
        "           'dog', 'frog', 'horse', 'ship', 'truck')"
      ],
      "metadata": {
        "id": "X8QJTf5NlQKz"
      },
      "execution_count": 14,
      "outputs": []
    },
    {
      "cell_type": "code",
      "source": [
        "image, label = next(iter(testloader_oset))\n",
        "print(image.shape)"
      ],
      "metadata": {
        "colab": {
          "base_uri": "https://localhost:8080/"
        },
        "id": "nygNpZXDw_dY",
        "outputId": "4fb5a62c-dc11-4667-a51e-d51860cfd11f"
      },
      "execution_count": 15,
      "outputs": [
        {
          "output_type": "stream",
          "name": "stdout",
          "text": [
            "torch.Size([100, 3, 32, 32])\n"
          ]
        }
      ]
    },
    {
      "cell_type": "markdown",
      "source": [
        "# Run Inference\n",
        "First inference on the official test set to see if it matches the result from the training book"
      ],
      "metadata": {
        "id": "LAJ2_LUVj9WV"
      }
    },
    {
      "cell_type": "code",
      "source": [
        "criterion = nn.CrossEntropyLoss()\n",
        "\n",
        "def test(testloader):\n",
        "    global best_acc\n",
        "    net.eval()\n",
        "    test_loss = 0\n",
        "    correct = 0\n",
        "    total = 0\n",
        "    with torch.no_grad():\n",
        "        for batch_idx, (inputs, targets) in enumerate(testloader):\n",
        "            inputs, targets = inputs.to(device), targets.to(device)\n",
        "            outputs = net(inputs)\n",
        "            loss = criterion(outputs, targets)\n",
        "\n",
        "            test_loss += loss.item()\n",
        "            _, predicted = outputs.max(1)\n",
        "            total += targets.size(0)\n",
        "            correct += predicted.eq(targets).sum().item()\n",
        "\n",
        "            if batch_idx % 10 == 0:\n",
        "                print(batch_idx, len(testloader), 'Loss: %.3f | Test Acc: %.3f%% (%d/%d)'\n",
        "                         % (test_loss/(batch_idx+1), 100.*correct/total, correct, total))\n",
        "        print(\"Total accuracy for official test set: %.3f %%\"%(100.*correct/total))\n"
      ],
      "metadata": {
        "id": "0XwmYK1EkBfC"
      },
      "execution_count": 18,
      "outputs": []
    },
    {
      "cell_type": "code",
      "source": [
        "test(testloader_oset)"
      ],
      "metadata": {
        "colab": {
          "base_uri": "https://localhost:8080/"
        },
        "id": "5T3qGMv9k6Cv",
        "outputId": "ff8a6a5b-6614-4645-de17-594f2d1bdebb"
      },
      "execution_count": 19,
      "outputs": [
        {
          "output_type": "stream",
          "name": "stdout",
          "text": [
            "0 100 Loss: 0.137 | Test Acc: 97.000% (97/100)\n",
            "10 100 Loss: 0.204 | Test Acc: 95.364% (1049/1100)\n",
            "20 100 Loss: 0.231 | Test Acc: 94.619% (1987/2100)\n",
            "30 100 Loss: 0.238 | Test Acc: 94.839% (2940/3100)\n",
            "40 100 Loss: 0.233 | Test Acc: 94.927% (3892/4100)\n",
            "50 100 Loss: 0.234 | Test Acc: 94.980% (4844/5100)\n",
            "60 100 Loss: 0.225 | Test Acc: 95.131% (5803/6100)\n",
            "70 100 Loss: 0.215 | Test Acc: 95.197% (6759/7100)\n",
            "80 100 Loss: 0.217 | Test Acc: 95.123% (7705/8100)\n",
            "90 100 Loss: 0.212 | Test Acc: 95.242% (8667/9100)\n",
            "Total accuracy for official test set: 95.250 %\n"
          ]
        }
      ]
    },
    {
      "cell_type": "markdown",
      "source": [
        "All look good. Now apply on the no label dataset and make the Submission.csv file - note here the \"target\" is replaced by the data ID since there's no label for the data set."
      ],
      "metadata": {
        "id": "2OB0OlZn4nKP"
      }
    },
    {
      "cell_type": "code",
      "source": [
        "def create_submission(testloader):\n",
        "    result = np.zeros((10000,2))\n",
        "    net.eval()\n",
        "\n",
        "    with torch.no_grad():\n",
        "      for batch_idx, (inputs, targets) in enumerate(testloader):\n",
        "          result[batch_idx*100:(batch_idx+1)*100, 0] = targets\n",
        "          inputs, targets = inputs.to(device), targets.to(device)\n",
        "          outputs = net(inputs)\n",
        "\n",
        "          _, predicted = outputs.max(1)\n",
        "          predicted = np.array(predicted.cpu())\n",
        "          result[batch_idx*100:(batch_idx+1)*100, 1] = predicted\n",
        "    result = result.astype(int)\n",
        "    return result"
      ],
      "metadata": {
        "id": "Ll_3cInx4uL2"
      },
      "execution_count": 20,
      "outputs": []
    },
    {
      "cell_type": "code",
      "source": [
        "result_official = create_submission(testloader_oset)\n",
        "result_nolabel = create_submission(testloader_nset)\n",
        "np.savetxt('submission.csv',result_nolabel,delimiter=',',fmt='%d',header='ID,Labels')"
      ],
      "metadata": {
        "id": "djJd7LdoJ1Pl"
      },
      "execution_count": 21,
      "outputs": []
    },
    {
      "cell_type": "code",
      "source": [
        "print(result_nolabel[1000:1020,:])"
      ],
      "metadata": {
        "colab": {
          "base_uri": "https://localhost:8080/"
        },
        "id": "tWYQ3Z0N_sZH",
        "outputId": "3cab5941-3abd-4371-a70a-6f389b1650a7"
      },
      "execution_count": 22,
      "outputs": [
        {
          "output_type": "stream",
          "name": "stdout",
          "text": [
            "[[1000    4]\n",
            " [1001    2]\n",
            " [1002    2]\n",
            " [1003    2]\n",
            " [1004    3]\n",
            " [1005    2]\n",
            " [1006    2]\n",
            " [1007    2]\n",
            " [1008    2]\n",
            " [1009    2]\n",
            " [1010    2]\n",
            " [1011    2]\n",
            " [1012    3]\n",
            " [1013    2]\n",
            " [1014    2]\n",
            " [1015    2]\n",
            " [1016    2]\n",
            " [1017    2]\n",
            " [1018    2]\n",
            " [1019    2]]\n"
          ]
        }
      ]
    }
  ]
}